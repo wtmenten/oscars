{
 "cells": [
  {
   "cell_type": "code",
   "execution_count": 2,
   "metadata": {
    "collapsed": false
   },
   "outputs": [
    {
     "name": "stdout",
     "output_type": "stream",
     "text": [
      "/home/liam/Documents/info370\n"
     ]
    }
   ],
   "source": [
    "import pandas as pd\n",
    "import numpy as np\n",
    "from bs4 import BeautifulSoup as bs\n",
    "from urllib import request as rq\n",
    "import urllib\n",
    "import re\n",
    "import math\n",
    "import os\n",
    "import csv\n",
    "import time\n",
    "import json\n",
    "import pickle\n",
    "import sys\n",
    "import requests\n",
    "from sklearn.cross_decomposition import PLSRegression\n",
    "import matplotlib.pyplot as plt\n",
    "cwd = os.getcwd()\n",
    "print(cwd)"
   ]
  },
  {
   "cell_type": "code",
   "execution_count": 3,
   "metadata": {
    "collapsed": true
   },
   "outputs": [],
   "source": [
    "def save_obj(obj, name ):\n",
    "    with open(''+ name + '.pkl', 'wb') as f:\n",
    "        pickle.dump(obj, f, pickle.HIGHEST_PROTOCOL)\n",
    "\n",
    "def load_obj(name ):\n",
    "    with open('' + name + '.pkl', 'rb') as f:\n",
    "        return pickle.load(f)\n",
    "sys.setrecursionlimit(50000)"
   ]
  },
  {
   "cell_type": "code",
   "execution_count": 4,
   "metadata": {
    "collapsed": false
   },
   "outputs": [],
   "source": [
    "projectData = load_obj(\"projectData\")\n",
    "imdbIds = projectData[\"imdbIDs\"]"
   ]
  },
  {
   "cell_type": "code",
   "execution_count": 5,
   "metadata": {
    "collapsed": false
   },
   "outputs": [
    {
     "name": "stdout",
     "output_type": "stream",
     "text": [
      "The Song of Bernadette\n",
      "http://www.imbd.com/title/tt0036377/\n"
     ]
    },
    {
     "ename": "ConnectionError",
     "evalue": "HTTPConnectionPool(host='www.imbd.com', port=80): Max retries exceeded with url: /title/tt0036377/ (Caused by NewConnectionError('<requests.packages.urllib3.connection.HTTPConnection object at 0x7fb1a07014a8>: Failed to establish a new connection: [Errno -3] Temporary failure in name resolution',))",
     "output_type": "error",
     "traceback": [
      "\u001b[0;31m---------------------------------------------------------------------------\u001b[0m",
      "\u001b[0;31mgaierror\u001b[0m                                  Traceback (most recent call last)",
      "\u001b[0;32m/home/liam/anaconda3/lib/python3.5/site-packages/requests/packages/urllib3/connection.py\u001b[0m in \u001b[0;36m_new_conn\u001b[0;34m(self)\u001b[0m\n\u001b[1;32m    141\u001b[0m             conn = connection.create_connection(\n\u001b[0;32m--> 142\u001b[0;31m                 (self.host, self.port), self.timeout, **extra_kw)\n\u001b[0m\u001b[1;32m    143\u001b[0m \u001b[0;34m\u001b[0m\u001b[0m\n",
      "\u001b[0;32m/home/liam/anaconda3/lib/python3.5/site-packages/requests/packages/urllib3/util/connection.py\u001b[0m in \u001b[0;36mcreate_connection\u001b[0;34m(address, timeout, source_address, socket_options)\u001b[0m\n\u001b[1;32m     74\u001b[0m \u001b[0;34m\u001b[0m\u001b[0m\n\u001b[0;32m---> 75\u001b[0;31m     \u001b[0;32mfor\u001b[0m \u001b[0mres\u001b[0m \u001b[0;32min\u001b[0m \u001b[0msocket\u001b[0m\u001b[0;34m.\u001b[0m\u001b[0mgetaddrinfo\u001b[0m\u001b[0;34m(\u001b[0m\u001b[0mhost\u001b[0m\u001b[0;34m,\u001b[0m \u001b[0mport\u001b[0m\u001b[0;34m,\u001b[0m \u001b[0mfamily\u001b[0m\u001b[0;34m,\u001b[0m \u001b[0msocket\u001b[0m\u001b[0;34m.\u001b[0m\u001b[0mSOCK_STREAM\u001b[0m\u001b[0;34m)\u001b[0m\u001b[0;34m:\u001b[0m\u001b[0;34m\u001b[0m\u001b[0m\n\u001b[0m\u001b[1;32m     76\u001b[0m         \u001b[0maf\u001b[0m\u001b[0;34m,\u001b[0m \u001b[0msocktype\u001b[0m\u001b[0;34m,\u001b[0m \u001b[0mproto\u001b[0m\u001b[0;34m,\u001b[0m \u001b[0mcanonname\u001b[0m\u001b[0;34m,\u001b[0m \u001b[0msa\u001b[0m \u001b[0;34m=\u001b[0m \u001b[0mres\u001b[0m\u001b[0;34m\u001b[0m\u001b[0m\n",
      "\u001b[0;32m/home/liam/anaconda3/lib/python3.5/socket.py\u001b[0m in \u001b[0;36mgetaddrinfo\u001b[0;34m(host, port, family, type, proto, flags)\u001b[0m\n\u001b[1;32m    731\u001b[0m     \u001b[0maddrlist\u001b[0m \u001b[0;34m=\u001b[0m \u001b[0;34m[\u001b[0m\u001b[0;34m]\u001b[0m\u001b[0;34m\u001b[0m\u001b[0m\n\u001b[0;32m--> 732\u001b[0;31m     \u001b[0;32mfor\u001b[0m \u001b[0mres\u001b[0m \u001b[0;32min\u001b[0m \u001b[0m_socket\u001b[0m\u001b[0;34m.\u001b[0m\u001b[0mgetaddrinfo\u001b[0m\u001b[0;34m(\u001b[0m\u001b[0mhost\u001b[0m\u001b[0;34m,\u001b[0m \u001b[0mport\u001b[0m\u001b[0;34m,\u001b[0m \u001b[0mfamily\u001b[0m\u001b[0;34m,\u001b[0m \u001b[0mtype\u001b[0m\u001b[0;34m,\u001b[0m \u001b[0mproto\u001b[0m\u001b[0;34m,\u001b[0m \u001b[0mflags\u001b[0m\u001b[0;34m)\u001b[0m\u001b[0;34m:\u001b[0m\u001b[0;34m\u001b[0m\u001b[0m\n\u001b[0m\u001b[1;32m    733\u001b[0m         \u001b[0maf\u001b[0m\u001b[0;34m,\u001b[0m \u001b[0msocktype\u001b[0m\u001b[0;34m,\u001b[0m \u001b[0mproto\u001b[0m\u001b[0;34m,\u001b[0m \u001b[0mcanonname\u001b[0m\u001b[0;34m,\u001b[0m \u001b[0msa\u001b[0m \u001b[0;34m=\u001b[0m \u001b[0mres\u001b[0m\u001b[0;34m\u001b[0m\u001b[0m\n",
      "\u001b[0;31mgaierror\u001b[0m: [Errno -3] Temporary failure in name resolution",
      "\nDuring handling of the above exception, another exception occurred:\n",
      "\u001b[0;31mNewConnectionError\u001b[0m                        Traceback (most recent call last)",
      "\u001b[0;32m/home/liam/anaconda3/lib/python3.5/site-packages/requests/packages/urllib3/connectionpool.py\u001b[0m in \u001b[0;36murlopen\u001b[0;34m(self, method, url, body, headers, retries, redirect, assert_same_host, timeout, pool_timeout, release_conn, chunked, **response_kw)\u001b[0m\n\u001b[1;32m    594\u001b[0m                                                   \u001b[0mbody\u001b[0m\u001b[0;34m=\u001b[0m\u001b[0mbody\u001b[0m\u001b[0;34m,\u001b[0m \u001b[0mheaders\u001b[0m\u001b[0;34m=\u001b[0m\u001b[0mheaders\u001b[0m\u001b[0;34m,\u001b[0m\u001b[0;34m\u001b[0m\u001b[0m\n\u001b[0;32m--> 595\u001b[0;31m                                                   chunked=chunked)\n\u001b[0m\u001b[1;32m    596\u001b[0m \u001b[0;34m\u001b[0m\u001b[0m\n",
      "\u001b[0;32m/home/liam/anaconda3/lib/python3.5/site-packages/requests/packages/urllib3/connectionpool.py\u001b[0m in \u001b[0;36m_make_request\u001b[0;34m(self, conn, method, url, timeout, chunked, **httplib_request_kw)\u001b[0m\n\u001b[1;32m    362\u001b[0m         \u001b[0;32melse\u001b[0m\u001b[0;34m:\u001b[0m\u001b[0;34m\u001b[0m\u001b[0m\n\u001b[0;32m--> 363\u001b[0;31m             \u001b[0mconn\u001b[0m\u001b[0;34m.\u001b[0m\u001b[0mrequest\u001b[0m\u001b[0;34m(\u001b[0m\u001b[0mmethod\u001b[0m\u001b[0;34m,\u001b[0m \u001b[0murl\u001b[0m\u001b[0;34m,\u001b[0m \u001b[0;34m**\u001b[0m\u001b[0mhttplib_request_kw\u001b[0m\u001b[0;34m)\u001b[0m\u001b[0;34m\u001b[0m\u001b[0m\n\u001b[0m\u001b[1;32m    364\u001b[0m \u001b[0;34m\u001b[0m\u001b[0m\n",
      "\u001b[0;32m/home/liam/anaconda3/lib/python3.5/http/client.py\u001b[0m in \u001b[0;36mrequest\u001b[0;34m(self, method, url, body, headers)\u001b[0m\n\u001b[1;32m   1105\u001b[0m         \u001b[0;34m\"\"\"Send a complete request to the server.\"\"\"\u001b[0m\u001b[0;34m\u001b[0m\u001b[0m\n\u001b[0;32m-> 1106\u001b[0;31m         \u001b[0mself\u001b[0m\u001b[0;34m.\u001b[0m\u001b[0m_send_request\u001b[0m\u001b[0;34m(\u001b[0m\u001b[0mmethod\u001b[0m\u001b[0;34m,\u001b[0m \u001b[0murl\u001b[0m\u001b[0;34m,\u001b[0m \u001b[0mbody\u001b[0m\u001b[0;34m,\u001b[0m \u001b[0mheaders\u001b[0m\u001b[0;34m)\u001b[0m\u001b[0;34m\u001b[0m\u001b[0m\n\u001b[0m\u001b[1;32m   1107\u001b[0m \u001b[0;34m\u001b[0m\u001b[0m\n",
      "\u001b[0;32m/home/liam/anaconda3/lib/python3.5/http/client.py\u001b[0m in \u001b[0;36m_send_request\u001b[0;34m(self, method, url, body, headers)\u001b[0m\n\u001b[1;32m   1150\u001b[0m             \u001b[0mbody\u001b[0m \u001b[0;34m=\u001b[0m \u001b[0m_encode\u001b[0m\u001b[0;34m(\u001b[0m\u001b[0mbody\u001b[0m\u001b[0;34m,\u001b[0m \u001b[0;34m'body'\u001b[0m\u001b[0;34m)\u001b[0m\u001b[0;34m\u001b[0m\u001b[0m\n\u001b[0;32m-> 1151\u001b[0;31m         \u001b[0mself\u001b[0m\u001b[0;34m.\u001b[0m\u001b[0mendheaders\u001b[0m\u001b[0;34m(\u001b[0m\u001b[0mbody\u001b[0m\u001b[0;34m)\u001b[0m\u001b[0;34m\u001b[0m\u001b[0m\n\u001b[0m\u001b[1;32m   1152\u001b[0m \u001b[0;34m\u001b[0m\u001b[0m\n",
      "\u001b[0;32m/home/liam/anaconda3/lib/python3.5/http/client.py\u001b[0m in \u001b[0;36mendheaders\u001b[0;34m(self, message_body)\u001b[0m\n\u001b[1;32m   1101\u001b[0m             \u001b[0;32mraise\u001b[0m \u001b[0mCannotSendHeader\u001b[0m\u001b[0;34m(\u001b[0m\u001b[0;34m)\u001b[0m\u001b[0;34m\u001b[0m\u001b[0m\n\u001b[0;32m-> 1102\u001b[0;31m         \u001b[0mself\u001b[0m\u001b[0;34m.\u001b[0m\u001b[0m_send_output\u001b[0m\u001b[0;34m(\u001b[0m\u001b[0mmessage_body\u001b[0m\u001b[0;34m)\u001b[0m\u001b[0;34m\u001b[0m\u001b[0m\n\u001b[0m\u001b[1;32m   1103\u001b[0m \u001b[0;34m\u001b[0m\u001b[0m\n",
      "\u001b[0;32m/home/liam/anaconda3/lib/python3.5/http/client.py\u001b[0m in \u001b[0;36m_send_output\u001b[0;34m(self, message_body)\u001b[0m\n\u001b[1;32m    933\u001b[0m \u001b[0;34m\u001b[0m\u001b[0m\n\u001b[0;32m--> 934\u001b[0;31m         \u001b[0mself\u001b[0m\u001b[0;34m.\u001b[0m\u001b[0msend\u001b[0m\u001b[0;34m(\u001b[0m\u001b[0mmsg\u001b[0m\u001b[0;34m)\u001b[0m\u001b[0;34m\u001b[0m\u001b[0m\n\u001b[0m\u001b[1;32m    935\u001b[0m         \u001b[0;32mif\u001b[0m \u001b[0mmessage_body\u001b[0m \u001b[0;32mis\u001b[0m \u001b[0;32mnot\u001b[0m \u001b[0;32mNone\u001b[0m\u001b[0;34m:\u001b[0m\u001b[0;34m\u001b[0m\u001b[0m\n",
      "\u001b[0;32m/home/liam/anaconda3/lib/python3.5/http/client.py\u001b[0m in \u001b[0;36msend\u001b[0;34m(self, data)\u001b[0m\n\u001b[1;32m    876\u001b[0m             \u001b[0;32mif\u001b[0m \u001b[0mself\u001b[0m\u001b[0;34m.\u001b[0m\u001b[0mauto_open\u001b[0m\u001b[0;34m:\u001b[0m\u001b[0;34m\u001b[0m\u001b[0m\n\u001b[0;32m--> 877\u001b[0;31m                 \u001b[0mself\u001b[0m\u001b[0;34m.\u001b[0m\u001b[0mconnect\u001b[0m\u001b[0;34m(\u001b[0m\u001b[0;34m)\u001b[0m\u001b[0;34m\u001b[0m\u001b[0m\n\u001b[0m\u001b[1;32m    878\u001b[0m             \u001b[0;32melse\u001b[0m\u001b[0;34m:\u001b[0m\u001b[0;34m\u001b[0m\u001b[0m\n",
      "\u001b[0;32m/home/liam/anaconda3/lib/python3.5/site-packages/requests/packages/urllib3/connection.py\u001b[0m in \u001b[0;36mconnect\u001b[0;34m(self)\u001b[0m\n\u001b[1;32m    166\u001b[0m     \u001b[0;32mdef\u001b[0m \u001b[0mconnect\u001b[0m\u001b[0;34m(\u001b[0m\u001b[0mself\u001b[0m\u001b[0;34m)\u001b[0m\u001b[0;34m:\u001b[0m\u001b[0;34m\u001b[0m\u001b[0m\n\u001b[0;32m--> 167\u001b[0;31m         \u001b[0mconn\u001b[0m \u001b[0;34m=\u001b[0m \u001b[0mself\u001b[0m\u001b[0;34m.\u001b[0m\u001b[0m_new_conn\u001b[0m\u001b[0;34m(\u001b[0m\u001b[0;34m)\u001b[0m\u001b[0;34m\u001b[0m\u001b[0m\n\u001b[0m\u001b[1;32m    168\u001b[0m         \u001b[0mself\u001b[0m\u001b[0;34m.\u001b[0m\u001b[0m_prepare_conn\u001b[0m\u001b[0;34m(\u001b[0m\u001b[0mconn\u001b[0m\u001b[0;34m)\u001b[0m\u001b[0;34m\u001b[0m\u001b[0m\n",
      "\u001b[0;32m/home/liam/anaconda3/lib/python3.5/site-packages/requests/packages/urllib3/connection.py\u001b[0m in \u001b[0;36m_new_conn\u001b[0;34m(self)\u001b[0m\n\u001b[1;32m    150\u001b[0m             raise NewConnectionError(\n\u001b[0;32m--> 151\u001b[0;31m                 self, \"Failed to establish a new connection: %s\" % e)\n\u001b[0m\u001b[1;32m    152\u001b[0m \u001b[0;34m\u001b[0m\u001b[0m\n",
      "\u001b[0;31mNewConnectionError\u001b[0m: <requests.packages.urllib3.connection.HTTPConnection object at 0x7fb1a07014a8>: Failed to establish a new connection: [Errno -3] Temporary failure in name resolution",
      "\nDuring handling of the above exception, another exception occurred:\n",
      "\u001b[0;31mMaxRetryError\u001b[0m                             Traceback (most recent call last)",
      "\u001b[0;32m/home/liam/anaconda3/lib/python3.5/site-packages/requests/adapters.py\u001b[0m in \u001b[0;36msend\u001b[0;34m(self, request, stream, timeout, verify, cert, proxies)\u001b[0m\n\u001b[1;32m    422\u001b[0m                     \u001b[0mretries\u001b[0m\u001b[0;34m=\u001b[0m\u001b[0mself\u001b[0m\u001b[0;34m.\u001b[0m\u001b[0mmax_retries\u001b[0m\u001b[0;34m,\u001b[0m\u001b[0;34m\u001b[0m\u001b[0m\n\u001b[0;32m--> 423\u001b[0;31m                     \u001b[0mtimeout\u001b[0m\u001b[0;34m=\u001b[0m\u001b[0mtimeout\u001b[0m\u001b[0;34m\u001b[0m\u001b[0m\n\u001b[0m\u001b[1;32m    424\u001b[0m                 )\n",
      "\u001b[0;32m/home/liam/anaconda3/lib/python3.5/site-packages/requests/packages/urllib3/connectionpool.py\u001b[0m in \u001b[0;36murlopen\u001b[0;34m(self, method, url, body, headers, retries, redirect, assert_same_host, timeout, pool_timeout, release_conn, chunked, **response_kw)\u001b[0m\n\u001b[1;32m    639\u001b[0m             retries = retries.increment(method, url, error=e, _pool=self,\n\u001b[0;32m--> 640\u001b[0;31m                                         _stacktrace=sys.exc_info()[2])\n\u001b[0m\u001b[1;32m    641\u001b[0m             \u001b[0mretries\u001b[0m\u001b[0;34m.\u001b[0m\u001b[0msleep\u001b[0m\u001b[0;34m(\u001b[0m\u001b[0;34m)\u001b[0m\u001b[0;34m\u001b[0m\u001b[0m\n",
      "\u001b[0;32m/home/liam/anaconda3/lib/python3.5/site-packages/requests/packages/urllib3/util/retry.py\u001b[0m in \u001b[0;36mincrement\u001b[0;34m(self, method, url, response, error, _pool, _stacktrace)\u001b[0m\n\u001b[1;32m    286\u001b[0m         \u001b[0;32mif\u001b[0m \u001b[0mnew_retry\u001b[0m\u001b[0;34m.\u001b[0m\u001b[0mis_exhausted\u001b[0m\u001b[0;34m(\u001b[0m\u001b[0;34m)\u001b[0m\u001b[0;34m:\u001b[0m\u001b[0;34m\u001b[0m\u001b[0m\n\u001b[0;32m--> 287\u001b[0;31m             \u001b[0;32mraise\u001b[0m \u001b[0mMaxRetryError\u001b[0m\u001b[0;34m(\u001b[0m\u001b[0m_pool\u001b[0m\u001b[0;34m,\u001b[0m \u001b[0murl\u001b[0m\u001b[0;34m,\u001b[0m \u001b[0merror\u001b[0m \u001b[0;32mor\u001b[0m \u001b[0mResponseError\u001b[0m\u001b[0;34m(\u001b[0m\u001b[0mcause\u001b[0m\u001b[0;34m)\u001b[0m\u001b[0;34m)\u001b[0m\u001b[0;34m\u001b[0m\u001b[0m\n\u001b[0m\u001b[1;32m    288\u001b[0m \u001b[0;34m\u001b[0m\u001b[0m\n",
      "\u001b[0;31mMaxRetryError\u001b[0m: HTTPConnectionPool(host='www.imbd.com', port=80): Max retries exceeded with url: /title/tt0036377/ (Caused by NewConnectionError('<requests.packages.urllib3.connection.HTTPConnection object at 0x7fb1a07014a8>: Failed to establish a new connection: [Errno -3] Temporary failure in name resolution',))",
      "\nDuring handling of the above exception, another exception occurred:\n",
      "\u001b[0;31mConnectionError\u001b[0m                           Traceback (most recent call last)",
      "\u001b[0;32m<ipython-input-5-fd788039c0f0>\u001b[0m in \u001b[0;36m<module>\u001b[0;34m()\u001b[0m\n\u001b[1;32m     12\u001b[0m     \u001b[0;32mtry\u001b[0m\u001b[0;34m:\u001b[0m\u001b[0;34m\u001b[0m\u001b[0m\n\u001b[1;32m     13\u001b[0m         \u001b[0ms\u001b[0m \u001b[0;34m=\u001b[0m \u001b[0mrequests\u001b[0m\u001b[0;34m.\u001b[0m\u001b[0mSession\u001b[0m\u001b[0;34m(\u001b[0m\u001b[0;34m)\u001b[0m\u001b[0;34m\u001b[0m\u001b[0m\n\u001b[0;32m---> 14\u001b[0;31m         \u001b[0mresponse\u001b[0m \u001b[0;34m=\u001b[0m \u001b[0ms\u001b[0m\u001b[0;34m.\u001b[0m\u001b[0mget\u001b[0m\u001b[0;34m(\u001b[0m\u001b[0mlink\u001b[0m\u001b[0;34m,\u001b[0m \u001b[0mheaders\u001b[0m\u001b[0;34m=\u001b[0m\u001b[0mheaders\u001b[0m\u001b[0;34m)\u001b[0m\u001b[0;34m.\u001b[0m\u001b[0mtext\u001b[0m\u001b[0;34m\u001b[0m\u001b[0m\n\u001b[0m\u001b[1;32m     15\u001b[0m \u001b[0;31m#         request=urllib.request.Request(link,None,headers) #The assembled request\u001b[0m\u001b[0;34m\u001b[0m\u001b[0;34m\u001b[0m\u001b[0m\n\u001b[1;32m     16\u001b[0m \u001b[0;31m#         response = urllib.request.urlopen(request)\u001b[0m\u001b[0;34m\u001b[0m\u001b[0;34m\u001b[0m\u001b[0m\n",
      "\u001b[0;32m/home/liam/anaconda3/lib/python3.5/site-packages/requests/sessions.py\u001b[0m in \u001b[0;36mget\u001b[0;34m(self, url, **kwargs)\u001b[0m\n\u001b[1;32m    486\u001b[0m \u001b[0;34m\u001b[0m\u001b[0m\n\u001b[1;32m    487\u001b[0m         \u001b[0mkwargs\u001b[0m\u001b[0;34m.\u001b[0m\u001b[0msetdefault\u001b[0m\u001b[0;34m(\u001b[0m\u001b[0;34m'allow_redirects'\u001b[0m\u001b[0;34m,\u001b[0m \u001b[0;32mTrue\u001b[0m\u001b[0;34m)\u001b[0m\u001b[0;34m\u001b[0m\u001b[0m\n\u001b[0;32m--> 488\u001b[0;31m         \u001b[0;32mreturn\u001b[0m \u001b[0mself\u001b[0m\u001b[0;34m.\u001b[0m\u001b[0mrequest\u001b[0m\u001b[0;34m(\u001b[0m\u001b[0;34m'GET'\u001b[0m\u001b[0;34m,\u001b[0m \u001b[0murl\u001b[0m\u001b[0;34m,\u001b[0m \u001b[0;34m**\u001b[0m\u001b[0mkwargs\u001b[0m\u001b[0;34m)\u001b[0m\u001b[0;34m\u001b[0m\u001b[0m\n\u001b[0m\u001b[1;32m    489\u001b[0m \u001b[0;34m\u001b[0m\u001b[0m\n\u001b[1;32m    490\u001b[0m     \u001b[0;32mdef\u001b[0m \u001b[0moptions\u001b[0m\u001b[0;34m(\u001b[0m\u001b[0mself\u001b[0m\u001b[0;34m,\u001b[0m \u001b[0murl\u001b[0m\u001b[0;34m,\u001b[0m \u001b[0;34m**\u001b[0m\u001b[0mkwargs\u001b[0m\u001b[0;34m)\u001b[0m\u001b[0;34m:\u001b[0m\u001b[0;34m\u001b[0m\u001b[0m\n",
      "\u001b[0;32m/home/liam/anaconda3/lib/python3.5/site-packages/requests/sessions.py\u001b[0m in \u001b[0;36mrequest\u001b[0;34m(self, method, url, params, data, headers, cookies, files, auth, timeout, allow_redirects, proxies, hooks, stream, verify, cert, json)\u001b[0m\n\u001b[1;32m    473\u001b[0m         }\n\u001b[1;32m    474\u001b[0m         \u001b[0msend_kwargs\u001b[0m\u001b[0;34m.\u001b[0m\u001b[0mupdate\u001b[0m\u001b[0;34m(\u001b[0m\u001b[0msettings\u001b[0m\u001b[0;34m)\u001b[0m\u001b[0;34m\u001b[0m\u001b[0m\n\u001b[0;32m--> 475\u001b[0;31m         \u001b[0mresp\u001b[0m \u001b[0;34m=\u001b[0m \u001b[0mself\u001b[0m\u001b[0;34m.\u001b[0m\u001b[0msend\u001b[0m\u001b[0;34m(\u001b[0m\u001b[0mprep\u001b[0m\u001b[0;34m,\u001b[0m \u001b[0;34m**\u001b[0m\u001b[0msend_kwargs\u001b[0m\u001b[0;34m)\u001b[0m\u001b[0;34m\u001b[0m\u001b[0m\n\u001b[0m\u001b[1;32m    476\u001b[0m \u001b[0;34m\u001b[0m\u001b[0m\n\u001b[1;32m    477\u001b[0m         \u001b[0;32mreturn\u001b[0m \u001b[0mresp\u001b[0m\u001b[0;34m\u001b[0m\u001b[0m\n",
      "\u001b[0;32m/home/liam/anaconda3/lib/python3.5/site-packages/requests/sessions.py\u001b[0m in \u001b[0;36msend\u001b[0;34m(self, request, **kwargs)\u001b[0m\n\u001b[1;32m    594\u001b[0m \u001b[0;34m\u001b[0m\u001b[0m\n\u001b[1;32m    595\u001b[0m         \u001b[0;31m# Send the request\u001b[0m\u001b[0;34m\u001b[0m\u001b[0;34m\u001b[0m\u001b[0m\n\u001b[0;32m--> 596\u001b[0;31m         \u001b[0mr\u001b[0m \u001b[0;34m=\u001b[0m \u001b[0madapter\u001b[0m\u001b[0;34m.\u001b[0m\u001b[0msend\u001b[0m\u001b[0;34m(\u001b[0m\u001b[0mrequest\u001b[0m\u001b[0;34m,\u001b[0m \u001b[0;34m**\u001b[0m\u001b[0mkwargs\u001b[0m\u001b[0;34m)\u001b[0m\u001b[0;34m\u001b[0m\u001b[0m\n\u001b[0m\u001b[1;32m    597\u001b[0m \u001b[0;34m\u001b[0m\u001b[0m\n\u001b[1;32m    598\u001b[0m         \u001b[0;31m# Total elapsed time of the request (approximately)\u001b[0m\u001b[0;34m\u001b[0m\u001b[0;34m\u001b[0m\u001b[0m\n",
      "\u001b[0;32m/home/liam/anaconda3/lib/python3.5/site-packages/requests/adapters.py\u001b[0m in \u001b[0;36msend\u001b[0;34m(self, request, stream, timeout, verify, cert, proxies)\u001b[0m\n\u001b[1;32m    485\u001b[0m                 \u001b[0;32mraise\u001b[0m \u001b[0mProxyError\u001b[0m\u001b[0;34m(\u001b[0m\u001b[0me\u001b[0m\u001b[0;34m,\u001b[0m \u001b[0mrequest\u001b[0m\u001b[0;34m=\u001b[0m\u001b[0mrequest\u001b[0m\u001b[0;34m)\u001b[0m\u001b[0;34m\u001b[0m\u001b[0m\n\u001b[1;32m    486\u001b[0m \u001b[0;34m\u001b[0m\u001b[0m\n\u001b[0;32m--> 487\u001b[0;31m             \u001b[0;32mraise\u001b[0m \u001b[0mConnectionError\u001b[0m\u001b[0;34m(\u001b[0m\u001b[0me\u001b[0m\u001b[0;34m,\u001b[0m \u001b[0mrequest\u001b[0m\u001b[0;34m=\u001b[0m\u001b[0mrequest\u001b[0m\u001b[0;34m)\u001b[0m\u001b[0;34m\u001b[0m\u001b[0m\n\u001b[0m\u001b[1;32m    488\u001b[0m \u001b[0;34m\u001b[0m\u001b[0m\n\u001b[1;32m    489\u001b[0m         \u001b[0;32mexcept\u001b[0m \u001b[0mClosedPoolError\u001b[0m \u001b[0;32mas\u001b[0m \u001b[0me\u001b[0m\u001b[0;34m:\u001b[0m\u001b[0;34m\u001b[0m\u001b[0m\n",
      "\u001b[0;31mConnectionError\u001b[0m: HTTPConnectionPool(host='www.imbd.com', port=80): Max retries exceeded with url: /title/tt0036377/ (Caused by NewConnectionError('<requests.packages.urllib3.connection.HTTPConnection object at 0x7fb1a07014a8>: Failed to establish a new connection: [Errno -3] Temporary failure in name resolution',))"
     ]
    }
   ],
   "source": [
    "# using imdb links gathered from the constructOscars Notebook\n",
    "# collects data from imdb\n",
    "\n",
    "imdbData = {}\n",
    "user_agent = 'Mozilla/5.0 (Windows; U; Windows NT 5.1; en-US; rv:1.9.0.7) Gecko/2009021910 Firefox/3.0.7'\n",
    "headers={'User-Agent':user_agent} \n",
    "failedReqs = []\n",
    "\n",
    "\n",
    "# gsearch = \"http://www.imbd.com/title/\"\n",
    "for key, imdbID in imdbIds.items():\n",
    "    link = \"http://www.imbd.com/title/\"+imdbID+\"/\"\n",
    "    print(key)\n",
    "    print(link)\n",
    "    try:\n",
    "        s = requests.Session()\n",
    "        response = s.get(link, headers=headers).text\n",
    "#         request=urllib.request.Request(link,None,headers) #The assembled request\n",
    "#         response = urllib.request.urlopen(request)\n",
    "        data = response # The data u need\n",
    "        soup2 = bs(data, 'html.parser')\n",
    "        \n",
    "        try:\n",
    "            mainSection = soup2.find(\"div\",{\"id\":\"main_top\"})\n",
    "            print(soup2)\n",
    "        #     tbar = mainSection.find(\"div\", class_=\"title_bar_wapper\")\n",
    "        #     ratingbar = tbar.find(\"div\",class_=\"ratings_wrapper\").find(\"div\",class_=\"imdbRating\")\n",
    "        #     rating = ratingbar.find(\"div\",class_=\"ratingValue\").find(\"strong\").find(\"span\").contents[0]\n",
    "            rating = mainSection.find(\"span\",{\"itemprop\": \"ratingValue\"}).contents[0]\n",
    "\n",
    "            votes = mainSection.find(\"span\",{\"itemprop\": \"ratingCount\"}).contents[0]\n",
    "            year = mainSection.find(\"span\", {\"id\":\"titleYear\"}).find(\"a\").contents[0]\n",
    "            reviews = mainSection.find(\"div\",class_=\"imdbRating\").find(\"div\", class_=\"hiddenImportant\").find_all(\"span\")\n",
    "            userRevs = 0\n",
    "            criticRevs = 0\n",
    "            try:\n",
    "                userRevs = reviews[0].contents[0].split()[0]\n",
    "                criticRevs = reviews[1].contents[0].split()[0]\n",
    "            except IndexError:\n",
    "                print(\"couldnt't find the review tag\")\n",
    "                print(reviews)\n",
    "                failedReqs.append(link)\n",
    "\n",
    "            actors = []\n",
    "            actortags = mainSection.find(\"div\", class_=\"plot_summary\").find_all(\"span\", {\"itemprop\": \"actors\"})\n",
    "            for tag in actortags:\n",
    "                actors.append(tag.find(\"a\").find(\"span\").contents[0])\n",
    "\n",
    "            details = soup2.find(\"div\",{\"id\":\"titleDetails\"})\n",
    "            runtime = details.find(\"time\",{\"itemprop\":\"duration\"}).contents[0].split()[0]\n",
    "            releasedate = soup2.find(\"meta\",{\"itemprop\":\"datePublished\"})['content']\n",
    "    #         print(key)\n",
    "    #         print(link)\n",
    "            print(rating)\n",
    "            print(votes)\n",
    "            print(userRevs)\n",
    "            print(criticRevs)\n",
    "            print(actors)\n",
    "            print(runtime)\n",
    "            imdbData[key] = [key, year, link, rating, votes, userRevs, criticRevs, actors, runtime, releasedate]\n",
    "        except AttributeError as e:\n",
    "            print(\"couldnt't find some attribute: %s\" % e)\n",
    "            print(link)\n",
    "            failedReqs.append(link)\n",
    "    except urllib.error.URLError as e:\n",
    "        print(e.reason)  \n",
    "        print(link)\n",
    "\n",
    "        failedReqs.append(link)\n",
    "    \n",
    "    time.sleep(3)\n",
    "print(failedReqs)\n",
    "#     break\n",
    "projectData['imdbData'] = imdbData\n",
    "projectData['failedReqs'] = failedReqs\n",
    "save_obj(projectData, \"projectData\")"
   ]
  },
  {
   "cell_type": "code",
   "execution_count": 35,
   "metadata": {
    "collapsed": false,
    "scrolled": false
   },
   "outputs": [
    {
     "name": "stdout",
     "output_type": "stream",
     "text": [
      "['Distribution', 'Votes', 'Rank', 'Title']\n"
     ]
    }
   ],
   "source": [
    "# ratings.txt is a data dump provided by imdb\n",
    "# the following sections are attempting to parse it's poor format for our movie's ratings.\n",
    "with open(\"ratings.txt\",\"r\") as fin:\n",
    "    file=[line.replace(\"\\n\",\"\").split(maxsplit=3) for line in fin]\n",
    "print(file[0])\n",
    "cols = file.pop(0)"
   ]
  },
  {
   "cell_type": "code",
   "execution_count": 37,
   "metadata": {
    "collapsed": false,
    "scrolled": true
   },
   "outputs": [
    {
     "name": "stdout",
     "output_type": "stream",
     "text": [
      "['1927', '1st', 'False', 'The Racket', 'The Caddo Company']\n",
      "['1928', '2nd', 'False', 'Alibi', 'Feature Productions']\n",
      "['1929', '3rd', 'True', 'All Quiet on the Western Front', 'Universal']\n",
      "['1930', '4th', 'True', 'Cimarron', 'RKO Radio']\n",
      "['1931', '5th', 'False', 'Arrowsmith', 'Samuel Goldwyn Productions']\n",
      "['1932', '6th', 'True', 'Cavalcade', 'Fox']\n",
      "['1934', '7th', 'False', 'The Barretts of Wimpole Street', 'Metro-Goldwyn-Mayer']\n",
      "['1935', '8th', 'False', 'Alice Adams', 'RKO Radio']\n",
      "['1936', '9th', 'False', 'Anthony Adverse', 'Warner Bros.']\n",
      "['1937', '10th', 'False', 'The Awful Truth', 'Columbia']\n",
      "['1938', '11th', 'False', 'The Adventures of Robin Hood', 'Warner Bros.-First National']\n",
      "['1939', '12th', 'False', 'Dark Victory', 'Warner Bros.-First National']\n",
      "['1940', '13th', 'False', 'All This, and Heaven Too', 'Warner Bros.']\n",
      "['1941', '14th', 'False', 'Blossoms in the Dust', 'Metro-Goldwyn-Mayer']\n",
      "['1942', '15th', 'False', 'The Invaders', 'Ortus']\n",
      "['1943', '16th', 'True', 'Casablanca', 'Warner Bros.']\n",
      "['1944', '17th', 'False', 'Double Indemnity', 'Paramount']\n",
      "['1945', '18th', 'False', 'Anchors Aweigh', 'Metro-Goldwyn-Mayer']\n",
      "['1946', '19th', 'True', 'The Best Years of Our Lives', 'Samuel Goldwyn Productions']\n",
      "['1947', '20th', 'False', \"The Bishop's Wife\", 'Samuel Goldwyn Productions']\n",
      "['1948', '21st', 'True', 'Hamlet', 'J. Arthur Rank-Two Cities Films']\n",
      "['1949', '22nd', 'True', \"All the King's Men\", 'Robert Rossen Productions']\n",
      "['1950', '23rd', 'True', 'All about Eve', '20th Century-Fox']\n",
      "['1951', '24th', 'True', 'An American in Paris', 'Arthur Freed']\n",
      "['1952', '25th', 'True', 'The Greatest Show on Earth', 'Cecil B. DeMille']\n",
      "['1953', '26th', 'True', 'From Here to Eternity', 'Buddy Adler']\n",
      "['1954', '27th', 'False', 'The Caine Mutiny', 'Stanley Kramer']\n",
      "['1955', '28th', 'False', 'Love Is a Many-Splendored Thing', 'Buddy Adler']\n",
      "['1956', '29th', 'True', 'Around the World in 80 Days', 'Michael Todd']\n",
      "['1957', '30th', 'True', 'The Bridge on the River Kwai', 'Sam Spiegel']\n",
      "['1958', '31st', 'False', 'Auntie Mame', 'Warner Bros.']\n",
      "['1959', '32nd', 'False', 'Anatomy of a Murder', 'Otto Preminger']\n",
      "['1960', '33rd', 'False', 'The Alamo', 'John Wayne']\n",
      "['1961', '34th', 'False', 'Fanny', 'Joshua Logan']\n",
      "['1962', '35th', 'True', 'Lawrence of Arabia', 'Sam Spiegel']\n",
      "['1963', '36th', 'False', 'America America', 'Elia Kazan']\n",
      "['1964', '37th', 'False', 'Becket', 'Hal B. Wallis']\n",
      "['1965', '38th', 'False', 'Darling', 'Joseph Janni']\n",
      "['1966', '39th', 'False', 'Alfie', 'Lewis Gilbert']\n",
      "['1967', '40th', 'False', 'Bonnie and Clyde', 'Warren Beatty']\n",
      "['1968', '41st', 'False', 'Funny Girl', 'Ray Stark']\n",
      "['1969', '42nd', 'False', 'Anne of the Thousand Days', 'Hal B. Wallis']\n",
      "['1970', '43rd', 'False', 'Airport', 'Ross Hunter']\n",
      "['1971', '44th', 'False', 'A Clockwork Orange', 'Stanley Kubrick']\n",
      "['1972', '45th', 'False', 'Cabaret', 'Cy Feuer']\n",
      "['1973', '46th', 'False', 'American Graffiti', 'Francis Ford Coppola']\n",
      "['1974', '47th', 'False', 'Chinatown', 'Robert Evans']\n",
      "['1975', '48th', 'False', 'Barry Lyndon', 'Stanley Kubrick']\n",
      "['1976', '49th', 'False', \"All the President's Men\", 'Walter Coblenz']\n",
      "['1977', '50th', 'True', 'Annie Hall', 'Charles H. Joffe']\n",
      "['1978', '51st', 'False', 'Coming Home', 'Jerome Hellman']\n",
      "['1979', '52nd', 'False', 'All That Jazz', 'Robert Alan Aurthur']\n",
      "['1980', '53rd', 'False', \"Coal Miner's Daughter\", 'Bernard Schwartz']\n",
      "['1981', '54th', 'False', 'Atlantic City', 'Denis Heroux and John Kemeny']\n",
      "['1982', '55th', 'False', 'E.T. The Extra-Terrestrial', 'Steven Spielberg and Kathleen Kennedy']\n",
      "['1983', '56th', 'False', 'The Big Chill', 'Michael Shamberg']\n",
      "['1984', '57th', 'True', 'Amadeus', 'Saul Zaentz']\n",
      "['1985', '58th', 'False', 'The Color Purple', 'Steven Spielberg']\n",
      "['1986', '59th', 'False', 'Children of a Lesser God', 'Burt Sugarman and Patrick Palmer']\n",
      "['1987', '60th', 'False', 'Broadcast News', 'James L. Brooks']\n",
      "['1988', '61st', 'False', 'The Accidental Tourist', 'Lawrence Kasdan']\n",
      "['1989', '62nd', 'False', 'Born on the Fourth of July', 'A. Kitman Ho and Oliver Stone']\n",
      "['1990', '63rd', 'False', 'Awakenings', 'Walter F. Parkes and Lawrence Lasker']\n",
      "['1991', '64th', 'False', 'Beauty and the Beast', 'Don Hahn']\n",
      "['1992', '65th', 'False', 'The Crying Game', 'Stephen Woolley']\n",
      "['1993', '66th', 'False', 'The Fugitive', 'Arnold Kopelson']\n",
      "['1994', '67th', 'True', 'Forrest Gump', 'Wendy Finerman']\n",
      "['1995', '68th', 'False', 'Apollo 13', 'Brian Grazer']\n",
      "['1996', '69th', 'True', 'The English Patient', 'Saul Zaentz']\n",
      "['1997', '70th', 'False', 'As Good as It Gets', 'James L. Brooks']\n",
      "['1998', '71st', 'False', 'Elizabeth', 'Alison Owen']\n",
      "['1999', '72nd', 'True', 'American Beauty', 'Bruce Cohen and Dan Jinks']\n",
      "['2000', '73rd', 'False', 'Chocolat', 'David Brown']\n",
      "['2001', '74th', 'True', 'A Beautiful Mind', 'Brian Grazer and Ron Howard']\n",
      "['2002', '75th', 'True', 'Chicago', 'Martin Richards']\n",
      "['2003', '76th', 'True', 'The Lord of the Rings: The Return of the King', 'Barrie M. Osborne']\n",
      "['2004', '77th', 'False', 'The Aviator', 'Michael Mann and Graham King']\n",
      "['2005', '78th', 'False', 'Brokeback Mountain', 'Diana Ossana and James Schamus']\n",
      "['2006', '79th', 'False', 'Babel', 'Alejandro González Iñárritu']\n",
      "['2007', '80th', 'False', 'Atonement', 'Tim Bevan']\n",
      "['2008', '81st', 'False', 'The Curious Case of Benjamin Button', 'Kathleen Kennedy']\n",
      "['2009', '82nd', 'False', 'Avatar', 'James Cameron and Jon Landau']\n",
      "['2010', '83rd', 'False', 'Black Swan', 'Mike Medavoy']\n",
      "['2011', '84th', 'True', 'The Artist', 'Thomas Langmann']\n",
      "['2012', '85th', 'False', 'Amour', 'Margaret Menegoz']\n",
      "['2013', '86th', 'False', 'American Hustle', 'Charles Roven']\n",
      "['2014', '87th', 'False', 'American Sniper', 'Clint Eastwood']\n"
     ]
    }
   ],
   "source": [
    "# ratingsArr = np.array(file)\n",
    "\n",
    "oscars = projectData['oscars']\n",
    "df = pd.DataFrame(data=file, columns=cols)\n"
   ]
  },
  {
   "cell_type": "code",
   "execution_count": 104,
   "metadata": {
    "collapsed": false,
    "scrolled": true
   },
   "outputs": [
    {
     "name": "stdout",
     "output_type": "stream",
     "text": [
      "failed to find one: The Patriot\n",
      "failed to find one: Les Miserables\n",
      "failed to find one: A Tale of Two Cities\n",
      "failed to find one: Grand Illusion\n",
      "failed to find one: The Invaders\n",
      "failed to find one: Casablanca\n",
      "failed to find one: In Which We Serve\n",
      "failed to find one: Henry V\n",
      "failed to find one: Great Expectations\n",
      "failed to find one: All about Eve\n",
      "failed to find one: Decision before Dawn\n",
      "failed to find one: Around the World in 80 Days\n",
      "failed to find one: Meredith Willson's The Music Man\n",
      "failed to find one: How the West Was Won\n",
      "failed to find one: Zorba the Greek\n",
      "failed to find one: The Russians Are Coming The Russians Are Coming\n",
      "failed to find one: The Emigrants\n",
      "failed to find one: Cries and Whispers\n",
      "failed to find one: The Godfather Part II\n",
      "failed to find one: One Flew over the Cuckoo's Nest\n",
      "failed to find one: Atlantic City\n",
      "failed to find one: E.T. The Extra-Terrestrial\n",
      "failed to find one: A Room with a View\n",
      "failed to find one: Dances With Wolves\n",
      "failed to find one: The Godfather, Part III\n",
      "failed to find one: Good Fellas\n"
     ]
    },
    {
     "name": "stderr",
     "output_type": "stream",
     "text": [
      "/home/liam/anaconda3/lib/python3.5/site-packages/ipykernel/__main__.py:8: UserWarning: This pattern has match groups. To actually get the groups, use str.extract.\n",
      "/home/liam/anaconda3/lib/python3.5/site-packages/ipykernel/__main__.py:13: UserWarning: This pattern has match groups. To actually get the groups, use str.extract.\n"
     ]
    },
    {
     "name": "stdout",
     "output_type": "stream",
     "text": [
      "failed to find one: The Postman (Il Postino)\n",
      "failed to find one: Life Is Beautiful\n",
      "failed to find one: Crouching Tiger, Hidden Dragon\n",
      "failed to find one: Precious: Based on the Novel 'Push' by Sapphire\n",
      "failed to find one: Birdman or (The Unexpected Virtue of Ignorance)\n"
     ]
    }
   ],
   "source": [
    "unfound = []\n",
    "for o in oscars:\n",
    "    for m in o:\n",
    "        myear = m[0]\n",
    "        mname = m[3]\n",
    "        \n",
    "#         print(myear)\n",
    "        tnames = df[df['Title'].str.contains(mname)]\n",
    "        tyear = tnames[tnames['Title'].str.contains(myear)]\n",
    "        \n",
    "        if tyear.size == 0:\n",
    "            myear = str(int(myear)+1)\n",
    "            tnames = df[df['Title'].str.contains(mname)]\n",
    "            tyear = tnames[tnames['Title'].str.contains(myear)]\n",
    "            if tyear.size == 0:\n",
    "                print(\"failed to find one: %s\" % mname)\n",
    "                unfound.append(m)\n",
    "            elif tyear.size > 1:\n",
    "                maxVotes = tyear[\"Votes\"].idxmax(1)\n",
    "                tyear = tyear.loc[int(maxVotes)]\n",
    "                rank = tyear[\"Rank\"]\n",
    "                votes = tyear[\"Votes\"]\n",
    "                imdbData[mname] = [mname, myear, rank, votes]\n",
    "            else:\n",
    "                print(tyear)\n",
    "                rank = tyear.iloc[0][\"Rank\"]\n",
    "                votes = tyear.iloc[0][\"Votes\"]\n",
    "                imdbData[mname] = [mname, myear, rank, votes]\n",
    "        elif tyear.size > 1:\n",
    "            maxVotes = tyear[\"Votes\"].idxmax(1)\n",
    "            tyear = tyear.loc[int(maxVotes)]\n",
    "            rank = tyear[\"Rank\"]\n",
    "            votes = tyear[\"Votes\"]\n",
    "            imdbData[mname] = [mname, myear, rank, votes]\n",
    "        else:\n",
    "            print(tyear)\n",
    "            rank = tyear.iloc[0][\"Rank\"]\n",
    "            votes = tyear.iloc[0][\"Votes\"]\n",
    "            imdbData[mname] = [mname, myear, rank, votes]\n"
   ]
  },
  {
   "cell_type": "code",
   "execution_count": 106,
   "metadata": {
    "collapsed": false,
    "scrolled": true
   },
   "outputs": [
    {
     "name": "stdout",
     "output_type": "stream",
     "text": [
      "{'Year': '1928', 'DVD': 'N/A', 'Country': 'USA', 'Awards': 'Won 1 Oscar. Another 4 nominations.', 'tomatoConsensus': 'N/A', 'tomatoImage': 'N/A', 'tomatoUserRating': '4.2', 'tomatoRotten': 'N/A', 'Director': 'Ernst Lubitsch', 'Language': 'English', 'Website': 'N/A', 'BoxOffice': 'N/A', 'Plot': 'In 18th-Century Russia, the Czar, Paul, is surrounded by murderous plots and trusts only Count Pahlen. Pahlen wishes to protect his friend, the mad king, but because of the horror of the ...', 'Response': 'True', 'tomatoUserReviews': '185', 'imdbID': 'tt0019257', 'imdbVotes': 'N/A', 'Title': 'The Patriot', 'tomatoRating': 'N/A', 'Writer': 'Ashley Dukes (play), Julian Johnson (titles), Hanns Kräly (adaptation), Dmitri Merezhkovsky (story \"Paul I\"), Alfred Neumann (play)', 'Actors': 'Emil Jannings, Florence Vidor, Lewis Stone, Vera Voronina', 'tomatoURL': 'http://www.rottentomatoes.com/m/the_patriot/', 'Metascore': 'N/A', 'Genre': 'Drama', 'Released': '01 Sep 1928', 'Runtime': '113 min', 'Rated': 'N/A', 'tomatoUserMeter': '67', 'Production': 'Paramount Pictures', 'tomatoReviews': 'N/A', 'Type': 'movie', 'imdbRating': 'N/A', 'Poster': 'https://images-na.ssl-images-amazon.com/images/M/MV5BZmM3MjZkNTQtOTRhZC00MDQ4LTlkOTAtMDM4OGM4ZTA1NDk5XkEyXkFqcGdeQXVyMjUxODE0MDY@._V1_SX300.jpg', 'tomatoFresh': 'N/A', 'tomatoMeter': 'N/A'}\n",
      "{'Year': '1935', 'DVD': '23 Apr 2007', 'Country': 'USA', 'Awards': 'Nominated for 4 Oscars. Another 1 win.', 'tomatoConsensus': 'N/A', 'tomatoImage': 'fresh', 'tomatoUserRating': '3.8', 'tomatoRotten': '0', 'Director': 'Richard Boleslawski', 'Language': 'English', 'Website': 'N/A', 'BoxOffice': 'N/A', 'Plot': 'In early 19th Century France an ex-convict who failed to report to parole is relentlessly pursued over a 20 year period by an obsessive policeman.', 'Response': 'True', 'tomatoUserReviews': '3438', 'imdbID': 'tt0026725', 'imdbVotes': '2,546', 'Title': 'Les Misérables', 'tomatoRating': '8.2', 'Writer': 'Victor Hugo (novel), W.P. Lipscomb', 'Actors': 'Fredric March, Charles Laughton, Cedric Hardwicke, Rochelle Hudson', 'tomatoURL': 'http://www.rottentomatoes.com/m/1012225-les_miserables/', 'Metascore': 'N/A', 'Genre': 'Drama, History, Romance', 'Released': '20 Apr 1935', 'Runtime': '108 min', 'Rated': 'APPROVED', 'tomatoUserMeter': '85', 'Production': '20th Century Fox Film Corporation', 'tomatoReviews': '9', 'Type': 'movie', 'imdbRating': '7.7', 'Poster': 'http://ia.media-imdb.com/images/M/MV5BMTgzNDYxNzQzNV5BMl5BanBnXkFtZTcwMTM2MzIyMQ@@._V1_SX300.jpg', 'tomatoFresh': '9', 'tomatoMeter': '100'}\n",
      "{'Year': '1950', 'DVD': '05 Oct 1999', 'Country': 'USA', 'Awards': 'Won 6 Oscars. Another 16 wins &amp; 17 nominations.', 'tomatoConsensus': 'Smart, sophisticated, and devastatingly funny, All About Eve is a Hollywood classic that only improves with age.', 'tomatoImage': 'certified', 'tomatoUserRating': '4.2', 'tomatoRotten': '0', 'Director': 'Joseph L. Mankiewicz', 'Language': 'English, French', 'Website': 'N/A', 'BoxOffice': 'N/A', 'Plot': 'An ingenue insinuates herself into the company of an established but aging stage actress and her circle of theater friends.', 'Response': 'True', 'tomatoUserReviews': '44052', 'imdbID': 'tt0042192', 'imdbVotes': '84,353', 'Title': 'All About Eve', 'tomatoRating': '9.1', 'Writer': 'Joseph L. Mankiewicz (written for the screen by)', 'Actors': 'Bette Davis, Anne Baxter, George Sanders, Celeste Holm', 'tomatoURL': 'http://www.rottentomatoes.com/m/1000626-all_about_eve/', 'Metascore': 'N/A', 'Genre': 'Drama', 'Released': '15 Jan 1951', 'Runtime': '138 min', 'Rated': 'APPROVED', 'tomatoUserMeter': '94', 'Production': '20th Century Fox', 'tomatoReviews': '64', 'Type': 'movie', 'imdbRating': '8.3', 'Poster': 'https://images-na.ssl-images-amazon.com/images/M/MV5BMTY2MTAzODI5NV5BMl5BanBnXkFtZTgwMjM4NzQ0MjE@._V1_SX300.jpg', 'tomatoFresh': '64', 'tomatoMeter': '100'}\n",
      "{'Year': '1951', 'DVD': '23 May 2006', 'Country': 'USA, West Germany', 'Awards': 'Nominated for 2 Oscars. Another 1 win &amp; 2 nominations.', 'tomatoConsensus': 'N/A', 'tomatoImage': 'fresh', 'tomatoUserRating': '3.7', 'tomatoRotten': '0', 'Director': 'Anatole Litvak', 'Language': 'English, French, German', 'Website': 'N/A', 'BoxOffice': 'N/A', 'Plot': 'As the US Army approaches Nazi Germany, they recruit German prisoners to spy behind German lines.', 'Response': 'True', 'tomatoUserReviews': '318', 'imdbID': 'tt0043459', 'imdbVotes': '1,740', 'Title': 'Decision Before Dawn', 'tomatoRating': '7.8', 'Writer': 'Peter Viertel (screenplay), George Howe (novel)', 'Actors': 'Richard Basehart, Gary Merrill, Oskar Werner, Hildegard Knef', 'tomatoURL': 'http://www.rottentomatoes.com/m/decision_before_dawn/', 'Metascore': 'N/A', 'Genre': 'Drama, War', 'Released': '25 Feb 1952', 'Runtime': '119 min', 'Rated': 'NOT RATED', 'tomatoUserMeter': '68', 'Production': '20th Century Fox Film Corporation', 'tomatoReviews': '5', 'Type': 'movie', 'imdbRating': '7.4', 'Poster': 'https://images-na.ssl-images-amazon.com/images/M/MV5BMTU5MzI3Njg4MF5BMl5BanBnXkFtZTgwOTM1NzIwMjE@._V1_SX300.jpg', 'tomatoFresh': '5', 'tomatoMeter': '100'}\n",
      "{'Year': '1964', 'DVD': '03 Aug 2004', 'Country': 'Greece, USA', 'Awards': 'Won 3 Oscars. Another 4 wins &amp; 16 nominations.', 'tomatoConsensus': 'N/A', 'tomatoImage': 'fresh', 'tomatoUserRating': '4.0', 'tomatoRotten': '1', 'Director': 'Mihalis Kakogiannis', 'Language': 'English, Greek', 'Website': 'N/A', 'BoxOffice': 'N/A', 'Plot': 'An uptight English writer traveling to Crete on a matter of business finds his life changed forever when he meets the gregarious Alexis Zorba.', 'Response': 'True', 'tomatoUserReviews': '7043', 'imdbID': 'tt0057831', 'imdbVotes': '15,646', 'Title': 'Zorba the Greek', 'tomatoRating': '7.3', 'Writer': 'Nikos Kazantzakis (from the novel by), Mihalis Kakogiannis (screenplay)', 'Actors': 'Anthony Quinn, Alan Bates, Irene Papas, Lila Kedrova', 'tomatoURL': 'http://www.rottentomatoes.com/m/zorba_the_greek/', 'Metascore': 'N/A', 'Genre': 'Comedy, Drama', 'Released': '14 Dec 1964', 'Runtime': '142 min', 'Rated': 'UNRATED', 'tomatoUserMeter': '87', 'Production': 'Fox', 'tomatoReviews': '7', 'Type': 'movie', 'imdbRating': '7.8', 'Poster': 'https://images-na.ssl-images-amazon.com/images/M/MV5BMjAxMDE2NDg5N15BMl5BanBnXkFtZTgwMzY3NjYwMTE@._V1_SX300.jpg', 'tomatoFresh': '6', 'tomatoMeter': '86'}\n",
      "{'Year': '1974', 'DVD': '24 May 2005', 'Country': 'USA', 'Awards': 'Won 6 Oscars. Another 10 wins &amp; 20 nominations.', 'tomatoConsensus': \"Drawing on strong performances by Al Pacino and Robert De Niro, Francis Ford Coppola's continuation of Mario Puzo's Mafia saga set new standards for sequels that have yet to be matched or broken.\", 'tomatoImage': 'certified', 'tomatoUserRating': '4.3', 'tomatoRotten': '2', 'Director': 'Francis Ford Coppola', 'Language': 'English, Italian, Spanish, Latin, Sicilian', 'Website': 'http://www.thegodfather.com/', 'BoxOffice': 'N/A', 'Plot': 'The early life and career of Vito Corleone in 1920s New York is portrayed while his son, Michael, expands and tightens his grip on his crime syndicate stretching from Lake Tahoe, Nevada to pre-revolution 1958 Cuba.', 'Response': 'True', 'tomatoUserReviews': '408701', 'imdbID': 'tt0071562', 'imdbVotes': '807,734', 'Title': 'The Godfather: Part II', 'tomatoRating': '9.5', 'Writer': 'Francis Ford Coppola (screenplay), Mario Puzo (screenplay), Mario Puzo (novel)', 'Actors': 'Al Pacino, Robert Duvall, Diane Keaton, Robert De Niro', 'tomatoURL': 'http://www.rottentomatoes.com/m/godfather_part_ii/', 'Metascore': '80', 'Genre': 'Crime, Drama', 'Released': '20 Dec 1974', 'Runtime': '202 min', 'Rated': 'R', 'tomatoUserMeter': '97', 'Production': 'Paramount Pictures', 'tomatoReviews': '72', 'Type': 'movie', 'imdbRating': '9.0', 'Poster': 'https://images-na.ssl-images-amazon.com/images/M/MV5BOTE1MTBiYzYtMDI1OC00ZTUxLTg0ZWQtZjdjMzA0OTM1NGMwXkEyXkFqcGdeQXVyMjUzOTY1NTc@._V1_SX300.jpg', 'tomatoFresh': '70', 'tomatoMeter': '97'}\n",
      "{'Year': '1975', 'DVD': '09 Dec 1997', 'Country': 'USA', 'Awards': 'Won 5 Oscars. Another 30 wins &amp; 13 nominations.', 'tomatoConsensus': \"The onscreen battle between Jack Nicholson and Louise Fletcher serves as a personal microcosm of the culture wars of the 1970s -- and testament to the director's vision that the film retains its power more than three decades later.\", 'tomatoImage': 'certified', 'tomatoUserRating': '4.2', 'tomatoRotten': '3', 'Director': 'Milos Forman', 'Language': 'English', 'Website': 'N/A', 'BoxOffice': 'N/A', 'Plot': 'A criminal pleads insanity after getting into trouble again and once in the mental institution rebels against the oppressive nurse and rallies up the scared patients.', 'Response': 'True', 'tomatoUserReviews': '277495', 'imdbID': 'tt0073486', 'imdbVotes': '687,873', 'Title': \"One Flew Over the Cuckoo's Nest\", 'tomatoRating': '8.9', 'Writer': 'Lawrence Hauben (screenplay), Bo Goldman (screenplay), Ken Kesey (based on the novel by), Dale Wasserman (the play version: \"One Flew Over the Cuckoo\\'s Nest\" by)', 'Actors': 'Michael Berryman, Peter Brocco, Dean R. Brooks, Alonzo Brown', 'tomatoURL': 'http://www.rottentomatoes.com/m/one_flew_over_the_cuckoos_nest/', 'Metascore': '79', 'Genre': 'Drama', 'Released': '21 Nov 1975', 'Runtime': '133 min', 'Rated': 'R', 'tomatoUserMeter': '96', 'Production': 'United Artists', 'tomatoReviews': '58', 'Type': 'movie', 'imdbRating': '8.7', 'Poster': 'https://images-na.ssl-images-amazon.com/images/M/MV5BYmJkODkwOTItZThjZC00MTE0LWIxNzQtYTM3MmQwMGI1OWFiXkEyXkFqcGdeQXVyNjUwNzk3NDc@._V1_SX300.jpg', 'tomatoFresh': '55', 'tomatoMeter': '95'}\n",
      "{'Year': '1981–', 'DVD': 'N/A', 'Country': 'USA', 'Awards': 'N/A', 'tomatoConsensus': 'N/A', 'tomatoImage': 'N/A', 'tomatoUserRating': 'N/A', 'tomatoRotten': 'N/A', 'Director': 'N/A', 'Language': 'English', 'Website': 'N/A', 'BoxOffice': 'N/A', 'Plot': 'N/A', 'Response': 'True', 'tomatoUserReviews': 'N/A', 'imdbID': 'tt1614571', 'imdbVotes': 'N/A', 'Title': 'Atlantic City Alive', 'tomatoRating': 'N/A', 'Writer': 'N/A', 'Actors': 'Bob Eubanks', 'tomatoURL': 'N/A', 'Metascore': 'N/A', 'Genre': 'Musical', 'totalSeasons': 'N/A', 'Released': 'N/A', 'Runtime': '60 min', 'Rated': 'N/A', 'tomatoUserMeter': 'N/A', 'Production': 'N/A', 'tomatoReviews': 'N/A', 'Type': 'series', 'imdbRating': 'N/A', 'Poster': 'N/A', 'tomatoFresh': 'N/A', 'tomatoMeter': 'N/A'}\n",
      "{'Year': '1982', 'DVD': '22 Oct 2002', 'Country': 'USA', 'Awards': 'Won 4 Oscars. Another 47 wins &amp; 32 nominations.', 'tomatoConsensus': \"Playing as both an exciting sci-fi adventure and a remarkable portrait of childhood, Steven Spielberg's touching tale of a homesick alien remains a piece of movie magic for young and old.\", 'tomatoImage': 'certified', 'tomatoUserRating': '3.5', 'tomatoRotten': '2', 'Director': 'Steven Spielberg', 'Language': 'English', 'Website': 'http://www.et20.com/', 'BoxOffice': 'N/A', 'Plot': 'A troubled child summons the courage to help a friendly alien escape Earth and return to his home world.', 'Response': 'True', 'tomatoUserReviews': '32312224', 'imdbID': 'tt0083866', 'imdbVotes': '286,444', 'Title': 'E.T. the Extra-Terrestrial', 'tomatoRating': '9.2', 'Writer': 'Melissa Mathison', 'Actors': 'Dee Wallace, Henry Thomas, Peter Coyote, Robert MacNaughton', 'tomatoURL': 'http://www.rottentomatoes.com/m/et_the_extraterrestrial/', 'Metascore': '91', 'Genre': 'Family, Sci-Fi', 'Released': '11 Jun 1982', 'Runtime': '115 min', 'Rated': 'PG', 'tomatoUserMeter': '72', 'Production': 'Universal Pictures', 'tomatoReviews': '112', 'Type': 'movie', 'imdbRating': '7.9', 'Poster': 'https://images-na.ssl-images-amazon.com/images/M/MV5BMTQ2ODFlMDAtNzdhOC00ZDYzLWE3YTMtNDU4ZGFmZmJmYTczXkEyXkFqcGdeQXVyMTQxNzMzNDI@._V1_SX300.jpg', 'tomatoFresh': '110', 'tomatoMeter': '98'}\n",
      "{'Year': '1990', 'DVD': '17 Jun 2003', 'Country': 'USA, UK', 'Awards': 'Won 7 Oscars. Another 43 wins &amp; 32 nominations.', 'tomatoConsensus': 'A grand, sweeping epic with inarguably noble intentions and arresting cinematography, but one whose center, arguably, is not as weighty as it should be.', 'tomatoImage': 'certified', 'tomatoUserRating': '3.6', 'tomatoRotten': '12', 'Director': 'Kevin Costner', 'Language': 'English, Sioux, Pawnee', 'Website': 'N/A', 'BoxOffice': 'N/A', 'Plot': 'Lt. John Dunbar, exiled to a remote western Civil War outpost, befriends wolves and Indians, making him an intolerable aberration in the military.', 'Response': 'True', 'tomatoUserReviews': '212857', 'imdbID': 'tt0099348', 'imdbVotes': '189,191', 'Title': 'Dances with Wolves', 'tomatoRating': '7.5', 'Writer': 'Michael Blake (screenplay), Michael Blake (novel)', 'Actors': 'Kevin Costner, Mary McDonnell, Graham Greene, Rodney A. Grant', 'tomatoURL': 'http://www.rottentomatoes.com/m/dances_with_wolves/', 'Metascore': '72', 'Genre': 'Adventure, Drama, Western', 'Released': '21 Nov 1990', 'Runtime': '181 min', 'Rated': 'PG-13', 'tomatoUserMeter': '87', 'Production': 'Orion Pictures', 'tomatoReviews': '66', 'Type': 'movie', 'imdbRating': '8.0', 'Poster': 'https://images-na.ssl-images-amazon.com/images/M/MV5BMTY3OTI5NDczN15BMl5BanBnXkFtZTcwNDA0NDY3Mw@@._V1_SX300.jpg', 'tomatoFresh': '54', 'tomatoMeter': '82'}\n",
      "{'Year': '1990', 'DVD': '24 May 2005', 'Country': 'USA', 'Awards': 'Nominated for 7 Oscars. Another 5 wins &amp; 13 nominations.', 'tomatoConsensus': 'N/A', 'tomatoImage': 'fresh', 'tomatoUserRating': '3.7', 'tomatoRotten': '19', 'Director': 'Francis Ford Coppola', 'Language': 'English, Italian, German, Latin', 'Website': 'N/A', 'BoxOffice': 'N/A', 'Plot': 'In the midst of trying to legitimize his business dealings in New York and Italy in 1979, aging Mafia don Michael Corleone seeks to avow for his sins while taking a young protégé under his wing.', 'Response': 'True', 'tomatoUserReviews': '304590', 'imdbID': 'tt0099674', 'imdbVotes': '272,143', 'Title': 'The Godfather: Part III', 'tomatoRating': '6.4', 'Writer': 'Mario Puzo, Francis Ford Coppola', 'Actors': 'Al Pacino, Diane Keaton, Talia Shire, Andy Garcia', 'tomatoURL': 'http://www.rottentomatoes.com/m/godfather_part_iii/', 'Metascore': '60', 'Genre': 'Crime, Drama', 'Released': '25 Dec 1990', 'Runtime': '162 min', 'Rated': 'R', 'tomatoUserMeter': '78', 'Production': 'Paramount Pictures', 'tomatoReviews': '57', 'Type': 'movie', 'imdbRating': '7.6', 'Poster': 'https://images-na.ssl-images-amazon.com/images/M/MV5BMTczMDcxNDA4MV5BMl5BanBnXkFtZTgwNjY1NTk4NjE@._V1_SX300.jpg', 'tomatoFresh': '38', 'tomatoMeter': '67'}\n",
      "{'Year': '2000', 'DVD': '05 Jun 2001', 'Country': 'Taiwan, Hong Kong, USA, China', 'Awards': 'Won 4 Oscars. Another 95 wins &amp; 127 nominations.', 'tomatoConsensus': 'The movie that catapulted Ang Lee into the ranks of upper echelon Hollywood filmmakers, Crouching Tiger, Hidden Dragon features a deft mix of amazing martial arts battles, beautiful scenery, and tasteful drama.', 'tomatoImage': 'certified', 'tomatoUserRating': '3.6', 'tomatoRotten': '4', 'Director': 'Ang Lee', 'Language': 'Mandarin', 'Website': 'http://www.crouchingtiger.com', 'BoxOffice': 'N/A', 'Plot': \"Two warriors in pursuit of a stolen sword and a notorious fugitive are led to an impetuous, physically skilled, adolescent nobleman's daughter, who is at a crossroads in her life.\", 'Response': 'True', 'tomatoUserReviews': '426285', 'imdbID': 'tt0190332', 'imdbVotes': '219,473', 'Title': 'Crouching Tiger, Hidden Dragon', 'tomatoRating': '8.6', 'Writer': 'Du Lu Wang (book), Hui-Ling Wang (screenplay), James Schamus (screenplay), Kuo Jung Tsai (screenplay)', 'Actors': 'Yun-Fat Chow, Michelle Yeoh, Ziyi Zhang, Chen Chang', 'tomatoURL': 'http://www.rottentomatoes.com/m/crouching_tiger_hidden_dragon/', 'Metascore': '93', 'Genre': 'Action, Adventure, Fantasy', 'Released': '12 Jan 2001', 'Runtime': '120 min', 'Rated': 'PG-13', 'tomatoUserMeter': '86', 'Production': 'Sony Pictures Classics', 'tomatoReviews': '151', 'Type': 'movie', 'imdbRating': '7.9', 'Poster': 'https://images-na.ssl-images-amazon.com/images/M/MV5BMDEyNjIyODktM2M0NC00MTgwLTk2ZTItMTZlZGEyNzg4MDkyXkEyXkFqcGdeQXVyMTQxNzMzNDI@._V1_SX300.jpg', 'tomatoFresh': '147', 'tomatoMeter': '97'}\n",
      "{'Year': '2014', 'DVD': '17 Feb 2015', 'Country': 'USA', 'Awards': 'Won 4 Oscars. Another 182 wins &amp; 265 nominations.', 'tomatoConsensus': 'A thrilling leap forward for director Alejandro González Iñárritu, Birdman is an ambitious technical showcase powered by a layered story and outstanding performances from Michael Keaton and Edward Norton.', 'tomatoImage': 'certified', 'tomatoUserRating': '3.9', 'tomatoRotten': '25', 'Director': 'Alejandro G. Iñárritu', 'Language': 'English', 'Website': 'http://www.birdmanthemovie.com/', 'BoxOffice': 'N/A', 'Plot': \"Illustrated upon the progress of his latest Broadway play, a former popular actor's struggle to cope with his current life as a wasted actor is shown.\", 'Response': 'True', 'tomatoUserReviews': '90334', 'imdbID': 'tt2562232', 'imdbVotes': '404,650', 'Title': 'Birdman or (The Unexpected Virtue of Ignorance)', 'tomatoRating': '8.5', 'Writer': 'Alejandro G. Iñárritu, Nicolás Giacobone, Alexander Dinelaris, Armando Bo, Raymond Carver (play)', 'Actors': 'Michael Keaton, Emma Stone, Kenny Chin, Jamahl Garrison-Lowe', 'tomatoURL': 'http://www.rottentomatoes.com/m/birdman_2014/', 'Metascore': '88', 'Genre': 'Comedy, Drama, Romance', 'Released': '14 Nov 2014', 'Runtime': '119 min', 'Rated': 'R', 'tomatoUserMeter': '77', 'Production': 'Fox Searchlight', 'tomatoReviews': '282', 'Type': 'movie', 'imdbRating': '7.8', 'Poster': 'https://images-na.ssl-images-amazon.com/images/M/MV5BODAzNDMxMzAxOV5BMl5BanBnXkFtZTgwMDMxMjA4MjE@._V1_SX300.jpg', 'tomatoFresh': '257', 'tomatoMeter': '91'}\n",
      "[['1928', '2nd', 'False', 'The Patriot', 'Paramount Famous Lasky'], ['1936', '9th', 'False', 'A Tale of Two Cities', 'Metro-Goldwyn-Mayer'], ['1938', '11th', 'False', 'Grand Illusion', \"Realization D'Art Cinematographique\"], ['1942', '15th', 'False', 'The Invaders', 'Ortus'], ['1943', '16th', 'True', 'Casablanca', 'Warner Bros.'], ['1943', '16th', 'False', 'In Which We Serve', 'Two Cities'], ['1946', '19th', 'False', 'Henry V', 'J. Arthur Rank-Two Cities Films'], ['1947', '20th', 'False', 'Great Expectations', 'J. Arthur Rank-Cineguild'], ['1956', '29th', 'True', 'Around the World in 80 Days', 'Michael Todd'], ['1962', '35th', 'False', \"Meredith Willson's The Music Man\", 'Morton Da Costa'], ['1963', '36th', 'False', 'How the West Was Won', 'Bernard Smith'], ['1966', '39th', 'False', 'The Russians Are Coming The Russians Are Coming', 'Norman Jewison'], ['1972', '45th', 'False', 'The Emigrants', 'Bengt Forslund'], ['1973', '46th', 'False', 'Cries and Whispers', 'Ingmar Bergman'], ['1981', '54th', 'False', 'Atlantic City', 'Denis Heroux and John Kemeny'], ['1986', '59th', 'False', 'A Room with a View', 'Ismail Merchant'], ['1990', '63rd', 'False', 'Good Fellas', 'Irwin Winkler'], ['1995', '68th', 'False', 'The Postman (Il Postino)', 'Mario Cecchi Gori'], ['1998', '71st', 'False', 'Life Is Beautiful', 'Elda Ferri and Gianluigi Braschi'], ['2009', '82nd', 'False', \"Precious: Based on the Novel 'Push' by Sapphire\", 'Lee Daniels']]\n"
     ]
    }
   ],
   "source": [
    "# for those not found in the data dump look in omdb\n",
    "\n",
    "genreq = \"http://www.omdbapi.com/?tomatoes=true&t=\"\n",
    "unfound2 = []\n",
    "for m in unfound:\n",
    "        e = False\n",
    "        mname = str(m[3])\n",
    "        myear = str(m[0]) \n",
    "        moviepage = rq.urlopen(genreq+urllib.parse.quote(mname) + \"&y=\"+ urllib.parse.quote(myear))\n",
    "        soup2 = bs(moviepage, 'html.parser')\n",
    "        moviedat = json.JSONDecoder().decode(s=str(soup2))\n",
    "        if \"Error\" in moviedat:\n",
    "            e = True\n",
    "            myear = str(int(myear) + 1) \n",
    "            moviepage = rq.urlopen(genreq+urllib.parse.quote(mname) + \"&y=\"+ urllib.parse.quote(myear))\n",
    "            soup2 = bs(moviepage, 'html.parser')\n",
    "            moviedat = json.JSONDecoder().decode(s=str(soup2))\n",
    "#             print(moviedat)\n",
    "            if \"Error\" in moviedat:\n",
    "                e = True\n",
    "                unfound2.append(m)\n",
    "        if not e:\n",
    "            print(moviedat)\n",
    "            imdbRating = moviedat['imdbRating']\n",
    "            imdbVotes = ''.join(moviedat['imdbVotes'].split(\",\"))\n",
    "            imdbId = moviedat['imdbID']\n",
    "#                 tomURevs = float(''.join(moviedat['tomatoUserReviews'].split(\",\")))\n",
    "#                 tomURating = float(moviedat['tomatoUserRating'])\n",
    "#                 tomUMeter = float(moviedat['tomatoUserMeter'])\n",
    "#                 tomRating = float(moviedat['tomatoRating'])\n",
    "#             runtime = float(moviedat['Runtime'].split()[0])\n",
    "#             year = float(myear)\n",
    "\n",
    "#             if m[2] == \"True\":\n",
    "#                 win = 1\n",
    "#             else:\n",
    "#                 win = 0\n",
    "            if imdbRating != \"N/A\" and imdbVotes != \"N/A\" and imdbId != \"N/A\":\n",
    "                imdbData[mname] = [mname, myear, imdbRating, imdbVotes]\n",
    "            else:\n",
    "                unfound2.append(m)\n",
    "print(unfound2)"
   ]
  },
  {
   "cell_type": "code",
   "execution_count": 114,
   "metadata": {
    "collapsed": false
   },
   "outputs": [
    {
     "name": "stdout",
     "output_type": "stream",
     "text": [
      "imdbData[\"The Patriot\"] = [\"The Patriot\",\"1928\", \"\", \"\"]\n",
      "imdbData[\"A Tale of Two Cities\"] = [\"A Tale of Two Cities\",\"1936\", \"\", \"\"]\n",
      "imdbData[\"Grand Illusion\"] = [\"Grand Illusion\",\"1938\", \"\", \"\"]\n",
      "imdbData[\"The Invaders\"] = [\"The Invaders\",\"1942\", \"\", \"\"]\n",
      "imdbData[\"Casablanca\"] = [\"Casablanca\",\"1943\", \"\", \"\"]\n",
      "imdbData[\"In Which We Serve\"] = [\"In Which We Serve\",\"1943\", \"\", \"\"]\n",
      "imdbData[\"Henry V\"] = [\"Henry V\",\"1946\", \"\", \"\"]\n",
      "imdbData[\"Great Expectations\"] = [\"Great Expectations\",\"1947\", \"\", \"\"]\n",
      "imdbData[\"Around the World in 80 Days\"] = [\"Around the World in 80 Days\",\"1956\", \"\", \"\"]\n",
      "imdbData[\"Meredith Willson's The Music Man\"] = [\"Meredith Willson's The Music Man\",\"1962\", \"\", \"\"]\n",
      "imdbData[\"How the West Was Won\"] = [\"How the West Was Won\",\"1963\", \"\", \"\"]\n",
      "imdbData[\"The Russians Are Coming The Russians Are Coming\"] = [\"The Russians Are Coming The Russians Are Coming\",\"1966\", \"\", \"\"]\n",
      "imdbData[\"The Emigrants\"] = [\"The Emigrants\",\"1972\", \"\", \"\"]\n",
      "imdbData[\"Cries and Whispers\"] = [\"Cries and Whispers\",\"1973\", \"\", \"\"]\n",
      "imdbData[\"Atlantic City\"] = [\"Atlantic City\",\"1981\", \"\", \"\"]\n",
      "imdbData[\"A Room with a View\"] = [\"A Room with a View\",\"1986\", \"\", \"\"]\n",
      "imdbData[\"Good Fellas\"] = [\"Good Fellas\",\"1990\", \"\", \"\"]\n",
      "imdbData[\"The Postman (Il Postino)\"] = [\"The Postman (Il Postino)\",\"1995\", \"\", \"\"]\n",
      "imdbData[\"Life Is Beautiful\"] = [\"Life Is Beautiful\",\"1998\", \"\", \"\"]\n",
      "imdbData[\"Precious: Based on the Novel 'Push' by Sapphire\"] = [\"Precious: Based on the Novel 'Push' by Sapphire\",\"2009\", \"\", \"\"]\n"
     ]
    }
   ],
   "source": [
    "# assess those still missing\n",
    "for l in unfound2:\n",
    "    print('imdbData[\"'+l[3]+'\"] = [\"'+l[3]+'\",\"'+l[0]+'\", \"\", \"\"]')\n"
   ]
  },
  {
   "cell_type": "code",
   "execution_count": 115,
   "metadata": {
    "collapsed": true
   },
   "outputs": [],
   "source": [
    "# auto fill those still missing\n",
    "imdbData[\"The Patriot\"] = [\"The Patriot\",\"1928\", \"0\", \"0\"]\n",
    "imdbData[\"A Tale of Two Cities\"] = [\"A Tale of Two Cities\",\"1936\", \"7.8\", \"3985\"]\n",
    "imdbData[\"Grand Illusion\"] = [\"Grand Illusion\",\"1938\", \"8.1\", \"27154\"]\n",
    "imdbData[\"The Invaders\"] = [\"The Invaders\",\"1942\", \"7.4\", \"4357\"]\n",
    "imdbData[\"Casablanca\"] = [\"Casablanca\",\"1943\", \"8.6\", \"394552\"]\n",
    "imdbData[\"In Which We Serve\"] = [\"In Which We Serve\",\"1943\", \"7.3\", \"3821\"]\n",
    "imdbData[\"Henry V\"] = [\"Henry V\",\"1946\", \"7.3\", \"4519\"]\n",
    "imdbData[\"Great Expectations\"] = [\"Great Expectations\",\"1947\", \"8.0\", \"17815\"]\n",
    "imdbData[\"Around the World in 80 Days\"] = [\"Around the World in 80 Days\",\"1956\", \"6.8\", \"18320\"]\n",
    "imdbData[\"Meredith Willson's The Music Man\"] = [\"Meredith Willson's The Music Man\",\"1962\", \"7.7\", \"13171\"]\n",
    "imdbData[\"How the West Was Won\"] = [\"How the West Was Won\",\"1963\", \"7.1\", \"14447\"]\n",
    "imdbData[\"The Russians Are Coming The Russians Are Coming\"] = [\"The Russians Are Coming The Russians Are Coming\",\"1966\", \"7.1\", \"6300\"]\n",
    "imdbData[\"The Emigrants\"] = [\"The Emigrants\",\"1972\", \"8.0\", \"3577\"]\n",
    "imdbData[\"Cries and Whispers\"] = [\"Cries and Whispers\",\"1973\", \"8.2\", \"20307\"]\n",
    "imdbData[\"Atlantic City\"] = [\"Atlantic City\",\"1981\", \"7.4\", \"11587\"]\n",
    "imdbData[\"A Room with a View\"] = [\"A Room with a View\",\"1986\", \"7.4\", \"30098\"]\n",
    "imdbData[\"Good Fellas\"] = [\"Good Fellas\",\"1990\", \"8.7\", \"743934\"]\n",
    "imdbData[\"The Postman (Il Postino)\"] = [\"The Postman (Il Postino)\",\"1995\", \"7.8\", \"26597\"]\n",
    "imdbData[\"Life Is Beautiful\"] = [\"Life Is Beautiful\",\"1998\", \"8.6\", \"431336\"]\n",
    "imdbData[\"Precious: Based on the Novel 'Push' by Sapphire\"] = [\"Precious: Based on the Novel 'Push' by Sapphire\",\"2009\", \"7.3\", \"88297\"]"
   ]
  },
  {
   "cell_type": "code",
   "execution_count": 117,
   "metadata": {
    "collapsed": false
   },
   "outputs": [
    {
     "name": "stdout",
     "output_type": "stream",
     "text": [
      "516\n"
     ]
    }
   ],
   "source": [
    "print(len(imdbData))\n",
    "projectData['imdbData'] = imdbData\n",
    "save_obj(projectData, \"projectData\")"
   ]
  },
  {
   "cell_type": "code",
   "execution_count": 124,
   "metadata": {
    "collapsed": false
   },
   "outputs": [],
   "source": [
    "mvs = []\n",
    "for o in oscars:\n",
    "    for m in o:\n",
    "        votes = imdbData[m[3]][3]\n",
    "        rank = imdbData[m[3]][2]\n",
    "        new = [m[0], m[1], m[2], m[3], m[4], rank, votes]\n",
    "        mvs.append(new)\n",
    "        \n",
    "f = open(\"AA_bestpictures2.csv\", 'w')\n",
    "fields = \"; \".join([\"year\", \"Academy Award\", \"Winner\", \"Movie Name\", \"Producer\", \"IMDB Rating\", \"IMDB Votes\"]) + \"\\n\"\n",
    "joined = \"\\n\".join([\"; \".join([i for i in m]) for m in mvs])\n",
    "joined = fields + joined\n",
    "f.write(joined)\n",
    "f.close()"
   ]
  },
  {
   "cell_type": "code",
   "execution_count": null,
   "metadata": {
    "collapsed": true
   },
   "outputs": [],
   "source": []
  }
 ],
 "metadata": {
  "anaconda-cloud": {},
  "kernelspec": {
   "display_name": "Python [conda root]",
   "language": "python",
   "name": "conda-root-py"
  },
  "language_info": {
   "codemirror_mode": {
    "name": "ipython",
    "version": 3
   },
   "file_extension": ".py",
   "mimetype": "text/x-python",
   "name": "python",
   "nbconvert_exporter": "python",
   "pygments_lexer": "ipython3",
   "version": "3.5.2"
  }
 },
 "nbformat": 4,
 "nbformat_minor": 1
}
