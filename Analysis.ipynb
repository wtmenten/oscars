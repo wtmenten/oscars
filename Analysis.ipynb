{
 "cells": [
  {
   "cell_type": "code",
   "execution_count": 5,
   "metadata": {
    "collapsed": false
   },
   "outputs": [],
   "source": [
    "import numpy as np\n",
    "import pandas as pd\n",
    "import csv\n",
    "from scipy.stats import kruskal,mannwhitneyu,spearmanr,pearsonr\n",
    "from matplotlib import pyplot as plt\n",
    "%matplotlib inline"
   ]
  },
  {
   "cell_type": "code",
   "execution_count": 6,
   "metadata": {
    "collapsed": true
   },
   "outputs": [],
   "source": [
    "def soft_max (x):\n",
    "    return np.exp(x) / np.sum(np.exp(x), axis=0)"
   ]
  },
  {
   "cell_type": "code",
   "execution_count": 7,
   "metadata": {
    "collapsed": false
   },
   "outputs": [],
   "source": [
    "datacsv = open(\"surveyResults_cleaned.csv\")\n",
    "reader = list(csv.reader(datacsv, delimiter=',', quotechar='\"'))\n",
    "fields = [x.strip() for x in reader.pop(0)]"
   ]
  },
  {
   "cell_type": "code",
   "execution_count": 8,
   "metadata": {
    "collapsed": false
   },
   "outputs": [],
   "source": [
    "reader = [[cell.split(\"(\")[0].strip() for cell in col]for col in reader]"
   ]
  },
  {
   "cell_type": "code",
   "execution_count": 9,
   "metadata": {
    "collapsed": false
   },
   "outputs": [
    {
     "name": "stdout",
     "output_type": "stream",
     "text": [
      "7\n"
     ]
    }
   ],
   "source": [
    "novices = [x for x in reader if int(x[-3]) < 4 and int(x[-5]) < 4]\n",
    "experts = [x for x in reader if int(x[-3]) > 3 and int(x[-5]) > 3]\n",
    "print(len(experts))"
   ]
  },
  {
   "cell_type": "code",
   "execution_count": 10,
   "metadata": {
    "collapsed": false
   },
   "outputs": [],
   "source": [
    "# helper for creating softmax rankings from the survey csv data\n",
    "def make_human_ranks(reader):\n",
    "    ratings = pd.DataFrame(reader).values[:,1:-5].astype(int)\n",
    "    ratings = ratings.T\n",
    "    ratings = np.delete(ratings,1,axis=0) # removing producer\n",
    "    trimmed_fields = [x.split('(')[0].strip() for x in fields[1:-5]]\n",
    "    trimmed_fields.pop(1) # removing producer\n",
    "    means = [x.mean() for x in ratings]\n",
    "    softs = soft_max(means)\n",
    "    zipped = [[f,v]for f,v in zip(trimmed_fields,softs)]\n",
    "    zipped.sort(key=lambda x: x[0], reverse=True)\n",
    "    for f,v in zipped:\n",
    "        print(\"%s: %s\" % (f,v))\n",
    "\n",
    "    return np.array([float(x[1]) for x in zipped])\n",
    "\n",
    "# spearman pearson helper\n",
    "def _spearman(g1,g2):\n",
    "    joined = np.array([[x,y]for x,y in zip(g1,g2)])\n",
    "    test = spearmanr(joined)\n",
    "#     test = pearsonr(g1,g2)\n",
    "    return test\n",
    "\n",
    "# plotting helper\n",
    "def _plot_ranks(r1,r2):\n",
    "    plt.figure()\n",
    "    plt.ylim(-0.1,1)\n",
    "    plt.xlim(-0.1,1)\n",
    "    plt.plot([-1,1],[-1,1])\n",
    "    plt.scatter(r1,r2)"
   ]
  },
  {
   "cell_type": "code",
   "execution_count": 11,
   "metadata": {
    "collapsed": false,
    "scrolled": true
   },
   "outputs": [
    {
     "name": "stdout",
     "output_type": "stream",
     "text": [
      "Novices\n",
      "Worldwide Gross: 0.299871767422\n",
      "Return on Investment: 0.0976513734097\n",
      "Production Budget: 0.0517931230281\n",
      "IMDB Votes: 0.0302855897785\n",
      "IMDB Rating: 0.0843573766822\n",
      "Average Critic Score: 0.355699633528\n",
      "Average Audience Score: 0.0803411361513\n",
      "\n",
      "Experts\n",
      "Worldwide Gross: 0.0174833849155\n",
      "Return on Investment: 0.0309594897598\n",
      "Production Budget: 0.00643177787249\n",
      "IMDB Votes: 0.00741947380865\n",
      "IMDB Rating: 0.0970801291124\n",
      "Average Critic Score: 0.827487377761\n",
      "Average Audience Score: 0.0131383667701\n",
      "\n",
      "All Humans\n",
      "Worldwide Gross: 0.167137582418\n",
      "Return on Investment: 0.0607032238123\n",
      "Production Budget: 0.0336580824017\n",
      "IMDB Votes: 0.0209448803779\n",
      "IMDB Rating: 0.101374068127\n",
      "Average Critic Score: 0.557769349727\n",
      "Average Audience Score: 0.0584128131355\n",
      "\n",
      "Between Human Groups Test Results\n",
      "Novices V. Experts\n",
      "SpearmanrResult(correlation=0.82142857142857151, pvalue=0.023448808345691505)\n"
     ]
    }
   ],
   "source": [
    "# constructs the rankings for each group\n",
    "print(\"Novices\")\n",
    "novice_ranks = make_human_ranks(novices)\n",
    "print(\"\\nExperts\")\n",
    "expert_ranks = make_human_ranks(experts)\n",
    "print(\"\\nAll Humans\")\n",
    "all_human_ranks = make_human_ranks(reader)\n",
    "\n",
    "# does some tests between the sub-groups\n",
    "# test_ne = kruskal(novice_ranks,expert_ranks)\n",
    "# test_ne = mannwhitneyu(novice_ranks,expert_ranks)\n",
    "test_ne = _spearman(novice_ranks,expert_ranks)\n",
    "test_he = _spearman(all_human_ranks,expert_ranks)\n",
    "test_hn = _spearman(all_human_ranks,novice_ranks)\n",
    "print('\\nBetween Human Groups Test Results')\n",
    "print(\"Novices V. Experts\")\n",
    "print(test_ne)\n",
    "# print(\"Humans V. Experts\")\n",
    "# print(test_he)\n",
    "# print(\"Humans V. Novices\")\n",
    "# print(test_hn)"
   ]
  },
  {
   "cell_type": "code",
   "execution_count": 14,
   "metadata": {
    "collapsed": false
   },
   "outputs": [
    {
     "name": "stdout",
     "output_type": "stream",
     "text": [
      "Worldwide Gross: 0.7693374461761608\n",
      "Return on Investment: 0.06822327746934165\n",
      "Production Budget: 0.0008398609599352032\n",
      "IMDB Votes: 0.019102325968666383\n",
      "IMDB Rating: 0.0698664357636996\n",
      "Average Critic Score: 0.04596617101656862\n",
      "Average Audience Score: 0.026664482645627638\n"
     ]
    }
   ],
   "source": [
    "# taking the coefficient values from the two regression files\n",
    "logregcoefs = [['IMDB Rating', -0.34300168957186966], ['IMDB Votes', 1.3669196119522085], ['Average Critic Score', 0.57744046973782626], ['Average Audience Score', -0.40653727105115345], ['Production Budget', -0.27290349924072632], ['Worldwide Gross', 0.69783373108027336], ['Return on Investment', 1.3457350571892375]]\n",
    "gamcoefs = [['IMDB Votes', -0.726622204], ['IMDB Rating',0.157007000], ['Average Critic Score',0.109126851], ['Average Audience Score',0.003958049], ['Production Budget',-7.045378456], ['Worldwide Gross',5.623981533], ['Return on Investment',0.130592474]]\n",
    "gamcoefs = np.array(gamcoefs)\n",
    "logregcoefs = np.array(logregcoefs)\n",
    "\n",
    "# mergeing the two lists and averaging \n",
    "mergedregcoefs = np.array([[x[0], (float(x[1])+float(y[1]))/2] for x,y in zip(gamcoefs,logregcoefs)])\n",
    "mergedregcoefs[:,1] = soft_max(mergedregcoefs[:,1].astype(float))\n",
    "\n",
    "mergedregcoefs = mergedregcoefs.tolist()\n",
    "# sorting the same way as humans\n",
    "mergedregcoefs.sort(key=lambda x: x[0], reverse=True)\n",
    "for f,v in mergedregcoefs:\n",
    "    print(\"%s: %s\" % (f,v))\n",
    "\n",
    "## for inspecting the individual regressions softmax rankings\n",
    "# logregcoefs[:,1] = soft_max(logregcoefs[:,1].astype(float))\n",
    "# logregcoefs = logregcoefs.tolist()\n",
    "# logregcoefs.sort(key=lambda x: x[0], reverse=True)\n",
    "# for f,v in logregcoefs:\n",
    "#     print(\"%s: %s\" % (f,v))\n",
    "\n",
    "\n",
    "# gamcoefs[:,1] = soft_max(gamcoefs[:,1].astype(float))\n",
    "# gamcoefs = gamcoefs.tolist()\n",
    "# gamcoefs.sort(key=lambda x: x[0], reverse=True)\n",
    "# for f,v in gamcoefs:\n",
    "#     print(\"%s: %s\" % (f,v))"
   ]
  },
  {
   "cell_type": "code",
   "execution_count": 15,
   "metadata": {
    "collapsed": false
   },
   "outputs": [
    {
     "name": "stdout",
     "output_type": "stream",
     "text": [
      "Regressions V. Experts\n",
      "SpearmanrResult(correlation=0.67857142857142871, pvalue=0.093750253959831303)\n",
      "Regressions V. Novices\n",
      "SpearmanrResult(correlation=0.71428571428571441, pvalue=0.071343561467537592)\n",
      "Regressions V. All Humans\n",
      "SpearmanrResult(correlation=0.75000000000000022, pvalue=0.052181400457057762)\n"
     ]
    },
    {
     "data": {
      "image/png": "[encoded data removed]",
      "text/plain": [
       "<matplotlib.figure.Figure at 0x7fb9f2c6b400>"
      ]
     },
     "metadata": {},
     "output_type": "display_data"
    },
    {
     "data": {
      "image/png": "[encoded data removed]",
      "text/plain": [
       "<matplotlib.figure.Figure at 0x7fb9f2c6b5c0>"
      ]
     },
     "metadata": {},
     "output_type": "display_data"
    },
    {
     "data": {
      "image/png": "[encoded data removed]",
      "text/plain": [
       "<matplotlib.figure.Figure at 0x7fb9f2bebb00>"
      ]
     },
     "metadata": {},
     "output_type": "display_data"
    }
   ],
   "source": [
    "mergedreg = [float(x[1]) for x in mergedregcoefs]\n",
    "mergedreg = np.array(mergedreg)\n",
    "\n",
    "# test = kruskal(np.array(zipped1),np.array(logreg1), np.array(gam1))\n",
    "# test2 = mannwhitneyu(np.array(zipped1),np.array(logreg1))\n",
    "\n",
    "# test regressions against all human group permutations\n",
    "print(\"Regressions V. Experts\")\n",
    "test_me = _spearman(mergedreg,expert_ranks)\n",
    "print(test_me)\n",
    "_plot_ranks(mergedreg,expert_ranks)\n",
    "print(\"Regressions V. Novices\")\n",
    "test_mn = _spearman(mergedreg,novice_ranks)\n",
    "print(test_mn)\n",
    "_plot_ranks(mergedreg,novice_ranks)\n",
    "print(\"Regressions V. All Humans\")\n",
    "test_mh = _spearman(all_human_ranks,np.array(mergedreg))\n",
    "_plot_ranks(mergedreg,all_human_ranks)\n",
    "print(test_mh)"
   ]
  },
  {
   "cell_type": "code",
   "execution_count": null,
   "metadata": {
    "collapsed": true
   },
   "outputs": [],
   "source": []
  }
 ],
 "metadata": {
  "anaconda-cloud": {},
  "kernelspec": {
   "display_name": "Python [default]",
   "language": "python",
   "name": "python3"
  },
  "language_info": {
   "codemirror_mode": {
    "name": "ipython",
    "version": 3
   },
   "file_extension": ".py",
   "mimetype": "text/x-python",
   "name": "python",
   "nbconvert_exporter": "python",
   "pygments_lexer": "ipython3",
   "version": "3.5.2"
  }
 },
 "nbformat": 4,
 "nbformat_minor": 0
}
